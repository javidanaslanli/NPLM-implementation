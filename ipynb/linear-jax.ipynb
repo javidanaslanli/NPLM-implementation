{
 "cells": [
  {
   "cell_type": "code",
   "execution_count": null,
   "metadata": {},
   "outputs": [],
   "source": [
    "import jaxlib\n",
    "import jax.numpy as jnp\n",
    "from collections import Counter\n",
    "from dataclasses import dataclass\n",
    "import flax.linen as nn\n",
    "from flax.linen.initializers import normal\n",
    "from jax import random\n",
    "import numpy as np\n",
    "import jax.nn"
   ]
  },
  {
   "cell_type": "code",
   "execution_count": null,
   "metadata": {},
   "outputs": [],
   "source": [
    "@dataclass\n",
    "class TestConfig:\n",
    "    context_size: int = 5\n",
    "    vocab_size: int = 7680\n",
    "    embedding_size: int = 30\n",
    "    hidden_size: int = 80\n",
    "    learning_rate: float = 0.1\n",
    "    num_epochs: int = 12000"
   ]
  },
  {
   "cell_type": "code",
   "execution_count": null,
   "metadata": {},
   "outputs": [],
   "source": [
    "with open('derslikler.txt', mode='r', encoding='utf-8') as f:\n",
    "    text = f.read()\n",
    "\n",
    "text = text[:150000]"
   ]
  },
  {
   "cell_type": "code",
   "execution_count": null,
   "metadata": {},
   "outputs": [],
   "source": [
    "vocab_words = sorted(list(set(text.split())))\n",
    "wordstoint = {wr:i for i,wr in enumerate(vocab_words)}\n",
    "wordstoint['--'] = 5236\n",
    "inttowords = {i:wr for wr,i in wordstoint.items()}\n",
    "len(vocab_words)"
   ]
  },
  {
   "cell_type": "code",
   "execution_count": null,
   "metadata": {},
   "outputs": [],
   "source": [
    "def create_dataset(words, args: TestConfig):\n",
    "    X, Y = [], []\n",
    "    context = [5236] * args.context_size\n",
    "    for word in words:\n",
    "        if word in wordstoint:\n",
    "            ix = wordstoint[word]\n",
    "        else:\n",
    "            ix = wordstoint[\"--\"]  \n",
    "        X.append(context)\n",
    "        Y.append(ix)\n",
    "        context = context[1:] + [ix]\n",
    "    \n",
    "    X = jnp.array(X, dtype=jnp.uint16)\n",
    "    Y = jnp.array(Y, dtype=jnp.uint16)\n",
    "    print(X.shape, Y.shape)\n",
    "    return X, Y\n",
    "\n",
    "words = text.split()\n",
    "n1 = int(0.8*len(words))\n",
    "n2 = int(0.9*len(words))\n",
    "\n",
    "trwords = words[:n1]\n",
    "valwords = words[n1:n2]\n",
    "tewords = words[n2:]\n",
    "\n",
    "Xtr, Ytr = create_dataset(trwords, TestConfig)\n",
    "Xval, Yval = create_dataset(valwords, TestConfig)\n",
    "Xte, Yte = create_dataset(tewords, TestConfig)"
   ]
  },
  {
   "cell_type": "code",
   "execution_count": null,
   "metadata": {},
   "outputs": [],
   "source": [
    "class NPLM(nn.Module):\n",
    "\n",
    "    vocab_size: int\n",
    "    emb_size: int\n",
    "    hidden_size: int\n",
    "    context_size: int\n",
    "\n",
    "    def setup(self):\n",
    "        self.embedding = nn.Embed(num_embeddings=self.vocab_size, features=self.emb_size,\n",
    "                                    embedding_init=normal(stddev=0.01))\n",
    "        self.hidden_layer = nn.Dense(self.hidden_size, kernel_init=normal(stddev=0.01))\n",
    "        self.output_layer = nn.Dense(self.vocab_size, kernel_init=normal(stddev=0.01))\n",
    "\n",
    "    def __call__(self, x):\n",
    "        embedded = self.embedding(x)\n",
    "        flattened = embedded.reshape(embedded.shape[0], -1)\n",
    "        hidden = jnp.tanh(self.hidden_layer(flattened))\n",
    "        logits = self.output_layer(hidden)\n",
    "\n",
    "        return logits"
   ]
  },
  {
   "cell_type": "code",
   "execution_count": null,
   "metadata": {},
   "outputs": [],
   "source": [
    "model = NPLM(\n",
    "    vocab_size=TestConfig.vocab_size,\n",
    "    emb_size=TestConfig.embedding_size,\n",
    "    hidden_size = TestConfig.hidden_size,\n",
    "    context_size= TestConfig.context_size\n",
    ")"
   ]
  },
  {
   "cell_type": "code",
   "execution_count": null,
   "metadata": {},
   "outputs": [],
   "source": [
    "key = random.PRNGKey(10)\n",
    "params = model.init(key, jnp.ones((1, TestConfig.context_size), dtype=jnp.int16))\n",
    "output = model.apply(params, Xtr)"
   ]
  },
  {
   "cell_type": "code",
   "execution_count": null,
   "metadata": {},
   "outputs": [],
   "source": [
    "print(output.shape)"
   ]
  },
  {
   "cell_type": "code",
   "execution_count": null,
   "metadata": {},
   "outputs": [],
   "source": [
    "def cross_entropy_loss(logits, targets):\n",
    "    log_probs = jax.nn.log_softmax(logits)\n",
    "    return -jnp.mean(log_probs[jnp.arange(logits.shape[0]), targets])"
   ]
  },
  {
   "cell_type": "code",
   "execution_count": null,
   "metadata": {},
   "outputs": [],
   "source": [
    "@jax.jit\n",
    "def update_step(params, inputs, targets, learning_rate=TestConfig.learning_rate):\n",
    "    def loss_fn(params):\n",
    "        logits = model.apply(params, inputs)\n",
    "        return cross_entropy_loss(logits, targets)\n",
    "    grad_fn = jax.value_and_grad(loss_fn)\n",
    "    loss, grads = grad_fn(params)\n",
    "    new_params = jax.tree.map(lambda p, g: p - learning_rate * g, params, grads)\n",
    "\n",
    "    return new_params, loss"
   ]
  },
  {
   "cell_type": "code",
   "execution_count": null,
   "metadata": {},
   "outputs": [],
   "source": [
    "def train(params, num_epochs, X, Y):\n",
    "    batch_size = X.shape[0]\n",
    "    for epoch in range(num_epochs):\n",
    "        params, loss = update_step(params, X, Y)\n",
    "        \n",
    "        if epoch % 1000 == 0:\n",
    "            print(f\"Epoch {epoch}, Loss: {loss}\")\n",
    "\n",
    "    return params   "
   ]
  },
  {
   "cell_type": "code",
   "execution_count": null,
   "metadata": {},
   "outputs": [],
   "source": [
    "trained_params = train(params, num_epochs=TestConfig.num_epochs, X=Xtr, Y=Ytr)"
   ]
  },
  {
   "cell_type": "code",
   "execution_count": null,
   "metadata": {},
   "outputs": [],
   "source": []
  }
 ],
 "metadata": {
  "kernelspec": {
   "display_name": "Python 3",
   "language": "python",
   "name": "python3"
  },
  "language_info": {
   "codemirror_mode": {
    "name": "ipython",
    "version": 3
   },
   "file_extension": ".py",
   "mimetype": "text/x-python",
   "name": "python",
   "nbconvert_exporter": "python",
   "pygments_lexer": "ipython3",
   "version": "3.11.4"
  }
 },
 "nbformat": 4,
 "nbformat_minor": 2
}
