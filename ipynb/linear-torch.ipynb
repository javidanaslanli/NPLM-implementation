{
 "cells": [
  {
   "cell_type": "code",
   "execution_count": null,
   "metadata": {},
   "outputs": [],
   "source": [
    "import torch\n",
    "import torch.nn as nn\n",
    "import torch.optim as optim\n",
    "import torch.nn.functional as F\n",
    "import matplotlib.pyplot as plt\n",
    "from collections import Counter\n",
    "from dataclasses import dataclass"
   ]
  },
  {
   "cell_type": "code",
   "execution_count": null,
   "metadata": {},
   "outputs": [],
   "source": [
    "@dataclass\n",
    "class TestConfig:\n",
    "    context_size: int = 3\n",
    "    vocab_size: int = 7680\n",
    "    embedding_size: int = 50\n",
    "    hidden_size: int = 20\n",
    "    learning_rate: float = 0.1\n",
    "    num_epochs: int = 20000"
   ]
  },
  {
   "cell_type": "code",
   "execution_count": null,
   "metadata": {},
   "outputs": [],
   "source": [
    "with open('derslikler.txt', mode='r', encoding='utf-8') as f:\n",
    "    text = f.read()\n",
    "text = text[:150000] #For sake of efficiency"
   ]
  },
  {
   "cell_type": "code",
   "execution_count": null,
   "metadata": {},
   "outputs": [],
   "source": [
    "vocab_words = sorted(list(set(text.split())))\n",
    "wordstoint = {wr:i for i,wr in enumerate(vocab_words)}\n",
    "wordstoint['--'] = 5236\n",
    "inttowords = {i:wr for wr,i in wordstoint.items()}\n",
    "len(vocab_words)"
   ]
  },
  {
   "cell_type": "code",
   "execution_count": null,
   "metadata": {},
   "outputs": [],
   "source": [
    "def create_dataset(words, args: TestConfig):\n",
    "    X, Y = [], []\n",
    "    context = [5236] * args.context_size\n",
    "    for word in words:\n",
    "        if word in wordstoint:\n",
    "            ix = wordstoint[word]\n",
    "        else:\n",
    "            ix = wordstoint[\"--\"]  \n",
    "        X.append(context)\n",
    "        Y.append(ix)\n",
    "        context = context[1:] + [ix]\n",
    "    \n",
    "    X = torch.tensor(X, dtype=torch.long)\n",
    "    Y = torch.tensor(Y, dtype=torch.long)\n",
    "    print(X.shape, Y.shape)\n",
    "    return X, Y\n",
    "\n",
    "words = text.split()\n",
    "n1 = int(0.8*len(words))\n",
    "n2 = int(0.9*len(words))\n",
    "\n",
    "trwords = words[:n1]\n",
    "valwords = words[n1:n2]\n",
    "tewords = words[n2:]\n",
    "\n",
    "Xtr, Ytr = create_dataset(trwords, TestConfig)\n",
    "Xval, Yval = create_dataset(valwords, TestConfig)\n",
    "Xte, Yte = create_dataset(tewords, TestConfig)"
   ]
  },
  {
   "cell_type": "code",
   "execution_count": null,
   "metadata": {},
   "outputs": [],
   "source": [
    "class Embeddings(nn.Module):\n",
    "    def __init__(self, args: TestConfig):\n",
    "        super().__init__()\n",
    "\n",
    "        self.embeddings = nn.Embedding(num_embeddings = args.vocab_size, embedding_dim=args.embedding_size)\n",
    "\n",
    "    def forward(self, x):\n",
    "        embedded = self.embeddings(x)\n",
    "        flat_emb = embedded.reshape(embedded.shape[0], -1)\n",
    "        return flat_emb\n",
    "    \n",
    "class MLP(nn.Module):\n",
    "    def __init__(self, args: TestConfig):\n",
    "        super().__init__()\n",
    "\n",
    "        self.hidden_layer = nn.Linear(args.embedding_size * args.context_size, args.hidden_size, bias=False)\n",
    "        self.output_layer = nn.Linear(args.hidden_size, args.vocab_size, bias=False)\n",
    "\n",
    "    def forward(self, x):\n",
    "\n",
    "        x = self.hidden_layer(x)\n",
    "        x = F.tanh(x)\n",
    "        x = self.output_layer(x)\n",
    "\n",
    "        return x\n",
    "    \n",
    "class NPLM(nn.Module):\n",
    "    def __init__(self, args: TestConfig):\n",
    "        super().__init__()\n",
    "\n",
    "        self.emb = Embeddings(TestConfig)\n",
    "        self.mlp = MLP(TestConfig)\n",
    "        \n",
    "        self.apply(self._init_weights)\n",
    "\n",
    "    def _init_weights(self, module):\n",
    "        if isinstance(module, nn.Linear):\n",
    "             nn.init.normal_(module.weight, mean=0, std=0.02)\n",
    "        elif isinstance(module, nn.Embedding):\n",
    "             nn.init.normal_(module.weight, mean=0, std = 0.02)\n",
    "\n",
    "    def forward(self, x):\n",
    "\n",
    "        x = self.emb(x)\n",
    "        out = self.mlp(x)\n",
    "        log_probs = F.log_softmax(out, dim = 1)\n",
    "\n",
    "        return log_probs\n"
   ]
  },
  {
   "cell_type": "code",
   "execution_count": null,
   "metadata": {},
   "outputs": [],
   "source": [
    "model = NPLM(TestConfig)"
   ]
  },
  {
   "cell_type": "code",
   "execution_count": null,
   "metadata": {},
   "outputs": [],
   "source": [
    "optimizer = optim.SGD(params = model.parameters(), lr = TestConfig.learning_rate)\n",
    "criterion = nn.NLLLoss()"
   ]
  },
  {
   "cell_type": "code",
   "execution_count": null,
   "metadata": {},
   "outputs": [],
   "source": [
    "for epoch in range(TestConfig.num_epochs):\n",
    "    model.train()\n",
    "    total_train_loss = 0\n",
    "    optimizer.zero_grad()\n",
    "    log_probs = model(Xtr)\n",
    "    loss = criterion(log_probs, Ytr)\n",
    "    loss.backward()\n",
    "    optimizer.step()\n",
    "    total_train_loss += loss.item()\n",
    "\n",
    "    avg_train_loss = total_train_loss\n",
    "    \n",
    "    model.eval()\n",
    "    total_val_loss = 0\n",
    " \n",
    "    with torch.no_grad():\n",
    "        log_probs = model(Xval)\n",
    "        val_loss = criterion(log_probs, Yval)\n",
    "        total_val_loss += val_loss.item()\n",
    "\n",
    "    avg_val_loss = total_val_loss\n",
    "    \n",
    "    if epoch % 1000 == 0: \n",
    "        print(f\"Epoch {epoch + 1}, Training Loss: {avg_train_loss:.4f}, Validation Loss: {avg_val_loss:.4f}\")"
   ]
  }
 ],
 "metadata": {
  "kernelspec": {
   "display_name": "Python 3",
   "language": "python",
   "name": "python3"
  },
  "language_info": {
   "codemirror_mode": {
    "name": "ipython",
    "version": 3
   },
   "file_extension": ".py",
   "mimetype": "text/x-python",
   "name": "python",
   "nbconvert_exporter": "python",
   "pygments_lexer": "ipython3",
   "version": "3.11.4"
  }
 },
 "nbformat": 4,
 "nbformat_minor": 2
}
